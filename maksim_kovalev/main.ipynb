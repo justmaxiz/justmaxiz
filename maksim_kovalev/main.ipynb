{
 "cells": [
  {
   "cell_type": "markdown",
   "metadata": {},
   "source": [
    "# Привет!"
   ]
  },
  {
   "cell_type": "code",
   "execution_count": null,
   "metadata": {},
   "outputs": [
    {
     "name": "stdout",
     "output_type": "stream",
     "text": [
      "{'first_name': 'Tinkov', 'last_name': 'Oleg', 'age': 57}\n"
     ]
    }
   ],
   "source": [
    "data = [{'first_name': 'Tinkov', 'last_name': 'Oleg', 'age': 57}, {'first_name': 'Bilalov', 'last_name': 'Rafael', 'age': 19}]\n",
    "\n",
    "# Необходимо найти и вывести словарь, который включает в себя пользователя с фамилией Tinkov\n",
    "\n",
    "for dict in data:\n",
    "    if dict.get('first_name') == 'Tinkov':\n",
    "        print(dict)\n",
    "        break"
   ]
  },
  {
   "cell_type": "code",
   "execution_count": 39,
   "metadata": {},
   "outputs": [
    {
     "name": "stdout",
     "output_type": "stream",
     "text": [
      "[1, 3, 5, 7, 8, 9, 15, 21, 33, 6]\n",
      "[1, 3, 5, 7]\n"
     ]
    }
   ],
   "source": [
    "llist = [1, 3, 5, 7, 8, 9, 15, 21, 33, 6]\n",
    "print(llist)\n",
    "print(llist[:4])\n"
   ]
  },
  {
   "cell_type": "code",
   "execution_count": 51,
   "metadata": {},
   "outputs": [
    {
     "name": "stdout",
     "output_type": "stream",
     "text": [
      "понял\n",
      "False\n"
     ]
    }
   ],
   "source": [
    "password = input('Введите пароль:')\n",
    "if len(password) >= 8 and '!' in password or '.' in password or '*' in password:\n",
    "    print('понял')\n",
    "    print(len(password) >= 8)\n",
    "else:\n",
    "    print('Плохой пароль бро')"
   ]
  }
 ],
 "metadata": {
  "kernelspec": {
   "display_name": "Python 3",
   "language": "python",
   "name": "python3"
  },
  "language_info": {
   "codemirror_mode": {
    "name": "ipython",
    "version": 3
   },
   "file_extension": ".py",
   "mimetype": "text/x-python",
   "name": "python",
   "nbconvert_exporter": "python",
   "pygments_lexer": "ipython3",
   "version": "3.12.4"
  }
 },
 "nbformat": 4,
 "nbformat_minor": 2
}
